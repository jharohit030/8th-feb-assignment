{
 "cells": [
  {
   "cell_type": "code",
   "execution_count": null,
   "id": "7538d864-da91-48cf-8cc7-17507453a404",
   "metadata": {},
   "outputs": [],
   "source": [
    "#Question 1:\n",
    "\n",
    "Abstraction in python is defined as a process of handling complexity by hiding unnecessary information from the user. This is one of the core concepts of object-oriented programming (OOP) languages. That enables the user to implement even more complex logic on top of the provided abstraction without understanding or even thinking about all the hidden background/back-end complexity.\n",
    "\n",
    "Example:\n",
    "    For the sake of understanding let us have an example as we all use the social platforms and contact our friends, chat, share images etc., but we don’t know how these operations are happening in the background. Let us take another example, while visiting and reading blogs on the GreatLearning we tend to click on various links and perform various functions unknowingly what is happening in the background. That is exactly the abstraction that works in the OOPS.\n",
    "    \n",
    "    "
   ]
  },
  {
   "cell_type": "code",
   "execution_count": null,
   "id": "f460c982-6ef6-43e4-87ee-16d67eb97386",
   "metadata": {},
   "outputs": [],
   "source": [
    "#Question 2:\n",
    "\n",
    "Abstraction:\n",
    "    1.An abstraction is a process or method of obtaining information. \n",
    "    2.Abstractions solve problems at the design or interface level. \n",
    "    3.The focus of abstraction is “what” to do.\n",
    "    4.Abstraction is a way of hiding unnecessary information. \n",
    "    5.Abstract classes and interfaces can be used to implement abstractions\n",
    "    6.Abstractions allow access to specific pieces of data.\n",
    "    \n",
    "    Example:\n",
    "        \n",
    "        However, users don’t know how their passwords are validated on the backend to protect their accounts. This is one of many real-world cases where encapsulation is used in the industry.\n",
    "        Clicking on an icon allows the abstraction to perform a specific function. On clicking the icon, the backend process works and directs the user to the next step.\n",
    "        \n",
    "        \n",
    "Encapsulation:\n",
    "    1.Encapsulation is the process or method for containing information. \n",
    "    2.During encapsulation, issues are resolved at the implementation level. \n",
    "    3.The focus of encapsulation is “how” it should be done.\n",
    "    4. Encapsulation is a way of hiding data in a single entity or unit and a way of protecting information from the outside world. \n",
    "    5.Encapsulation can be implemented using access modifiers, i.e. private, protected, public\n",
    "    6.Encapsulation hides data from direct access by users (data hiding).\n",
    "    \n",
    "    Example:\n",
    "        In a particular project company, the various teams work like a functional team, a development team, a test team, a content team, and a project team to do other tasks. Let’s say the content team wants all the data about the development team. In this case, the data cannot be accessed directly. The content team should reach out to someone from the development team and ask them to provide the data. This is encapsulation. The data (project data + employee data) is grouped under one name, the “development team.”\n",
    "        \n",
    "    \n",
    "        \n"
   ]
  },
  {
   "cell_type": "code",
   "execution_count": null,
   "id": "a8e29994-9b05-41d3-a64d-3abedbe79ab8",
   "metadata": {},
   "outputs": [],
   "source": [
    "#Question 3:\n",
    "\n",
    "The main goal of the abstract base class is to provide a standardized way to test whether an object adheres to a given specification. It can also prevent any attempt to instantiate a subclass that doesn’t override a particular method in the superclass. And finally, using an abstract class, a class can derive identity from another class without any object inheritance.\n",
    "\n"
   ]
  },
  {
   "cell_type": "code",
   "execution_count": null,
   "id": "28bed7ba-5201-4324-a759-ac8260b69fc3",
   "metadata": {},
   "outputs": [],
   "source": [
    "#Question 4:\n",
    "\n",
    "In Python, abstraction can be achieved by having/using abstract classes and methods in our programs\n",
    "\n",
    "An abstract method is a method that is declared, but does not contain implementation. An abstract method in a base class identifies the functionality that should be implemented by all its subclasses. However, since the implementation of an abstract method would differ from one subclass to another, often the method body comprises just a pass statement. Every subclass of the base class will ride this method with its implementation. A class containing abstract methods is called abstract class.Python provides the abc module to use the abstraction in the Python program, syntax as:\n",
    "from abc import ABC,   \n",
    "class ClassName(ABC):"
   ]
  },
  {
   "cell_type": "code",
   "execution_count": null,
   "id": "72cc94b3-f267-44a4-b657-3207bbab42a9",
   "metadata": {},
   "outputs": [],
   "source": [
    "#Question 5:\n",
    "\n",
    "We cannot create an abstract class in Python directly. However, Python does provide a module that allows us to define abstract classes. The module we can use to create an abstract class in Python is abc(abstract base class) module.\n",
    "Abstract methods force the child classes to give the implementation of these methods in them and thus help us achieve abstraction as each subclass can give its own implementation. A class containing one or more than one abstract method is called an abstract class.\n"
   ]
  }
 ],
 "metadata": {
  "kernelspec": {
   "display_name": "Python 3 (ipykernel)",
   "language": "python",
   "name": "python3"
  },
  "language_info": {
   "codemirror_mode": {
    "name": "ipython",
    "version": 3
   },
   "file_extension": ".py",
   "mimetype": "text/x-python",
   "name": "python",
   "nbconvert_exporter": "python",
   "pygments_lexer": "ipython3",
   "version": "3.10.8"
  }
 },
 "nbformat": 4,
 "nbformat_minor": 5
}
